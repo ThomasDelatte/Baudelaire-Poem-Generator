{
 "cells": [
  {
   "cell_type": "code",
   "execution_count": 2,
   "metadata": {},
   "outputs": [],
   "source": [
    "import tensorflow as tf\n",
    "from tensorflow import keras\n",
    "import numpy as np"
   ]
  },
  {
   "cell_type": "code",
   "execution_count": 5,
   "metadata": {},
   "outputs": [],
   "source": [
    "def make_dataset(filepaths, n_steps=100, batch_size=32):\n",
    "    \"\"\"Function that preprocesses the data.\"\"\"\n",
    "    \n",
    "    with open(filepaths) as f:\n",
    "        text = f.read()\n",
    "    \n",
    "    tokenizer = keras.preprocessing.text.Tokenizer(char_level=True)\n",
    "    tokenizer.fit_on_texts([text])\n",
    "    max_id = len(tokenizer.word_index)\n",
    "    print(max_id)\n",
    "    \n",
    "    [encoded] = np.array(tokenizer.texts_to_sequences([text])) - 1\n",
    "    dataset = tf.data.Dataset.from_tensor_slices(encoded)\n",
    "\n",
    "    window_length = n_steps + 1\n",
    "    dataset = dataset.window(window_length, shift=1, drop_remainder=True)\n",
    "\n",
    "    dataset = dataset.flat_map(lambda window: window.batch(window_length))\n",
    "    dataset = dataset.shuffle(10000).batch(batch_size)\n",
    "    dataset = dataset.map(lambda windows: (windows[:, :-1], windows[:, 1:]))\n",
    "    dataset = dataset.map(lambda X_batch, Y_batch: (tf.one_hot(X_batch, depth=max_id), Y_batch))\n",
    "    dataset = dataset.prefetch(1)\n",
    "    \n",
    "    return dataset"
   ]
  },
  {
   "cell_type": "code",
   "execution_count": 6,
   "metadata": {},
   "outputs": [
    {
     "name": "stdout",
     "output_type": "stream",
     "text": [
      "70\n"
     ]
    }
   ],
   "source": [
    "dataset = make_dataset(\"/home/tdelatte/Projects/Deep_Learning/NLP/Baudelaire_Poem_Generator/data/raw/baudelaire.txt\")"
   ]
  },
  {
   "cell_type": "code",
   "execution_count": null,
   "metadata": {},
   "outputs": [],
   "source": []
  }
 ],
 "metadata": {
  "kernelspec": {
   "display_name": "Python 3",
   "language": "python",
   "name": "python3"
  },
  "language_info": {
   "codemirror_mode": {
    "name": "ipython",
    "version": 3
   },
   "file_extension": ".py",
   "mimetype": "text/x-python",
   "name": "python",
   "nbconvert_exporter": "python",
   "pygments_lexer": "ipython3",
   "version": "3.7.7"
  }
 },
 "nbformat": 4,
 "nbformat_minor": 4
}
