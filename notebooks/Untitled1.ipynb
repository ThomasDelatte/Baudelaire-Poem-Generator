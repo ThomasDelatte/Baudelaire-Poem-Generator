{
 "cells": [
  {
   "cell_type": "code",
   "execution_count": 3,
   "metadata": {},
   "outputs": [],
   "source": [
    "import sys"
   ]
  },
  {
   "cell_type": "code",
   "execution_count": 4,
   "metadata": {},
   "outputs": [
    {
     "name": "stdout",
     "output_type": "stream",
     "text": [
      "['/home/tdelatte/Projects/Deep_Learning/NLP/Baudelaire_Poem_Generator/notebooks', '/home/tdelatte/miniconda3/envs/NLP/lib/python37.zip', '/home/tdelatte/miniconda3/envs/NLP/lib/python3.7', '/home/tdelatte/miniconda3/envs/NLP/lib/python3.7/lib-dynload', '', '/home/tdelatte/miniconda3/envs/NLP/lib/python3.7/site-packages', '/home/tdelatte/miniconda3/envs/NLP/lib/python3.7/site-packages/IPython/extensions', '/home/tdelatte/.ipython']\n"
     ]
    }
   ],
   "source": [
    "print(sys.path)"
   ]
  },
  {
   "cell_type": "code",
   "execution_count": null,
   "metadata": {},
   "outputs": [],
   "source": []
  }
 ],
 "metadata": {
  "kernelspec": {
   "display_name": "Python 3",
   "language": "python",
   "name": "python3"
  },
  "language_info": {
   "codemirror_mode": {
    "name": "ipython",
    "version": 3
   },
   "file_extension": ".py",
   "mimetype": "text/x-python",
   "name": "python",
   "nbconvert_exporter": "python",
   "pygments_lexer": "ipython3",
   "version": "3.7.7"
  }
 },
 "nbformat": 4,
 "nbformat_minor": 4
}
