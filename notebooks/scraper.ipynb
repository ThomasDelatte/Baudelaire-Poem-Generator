{
 "cells": [
  {
   "cell_type": "code",
   "execution_count": 1,
   "metadata": {},
   "outputs": [],
   "source": [
    "from bs4 import BeautifulSoup\n",
    "import requests\n",
    "import re"
   ]
  },
  {
   "cell_type": "code",
   "execution_count": 2,
   "metadata": {},
   "outputs": [],
   "source": [
    "get_urls = requests.get(\"https://www.poesie-francaise.fr/poemes-charles-baudelaire/\")  \n",
    "\n",
    "soup_url = BeautifulSoup(get_urls.text, \"html.parser\")\n",
    "\n",
    "links = []\n",
    "\n",
    "for link in soup_url.findAll('a', attrs={'href': re.compile(\"^https://www.poesie-francaise.fr/charles-baudelaire/\")}):\n",
    "    links.append(link.get('href'))"
   ]
  },
  {
   "cell_type": "code",
   "execution_count": 3,
   "metadata": {},
   "outputs": [],
   "source": [
    "extracted_poems = []\n",
    "for link in links:\n",
    "    source = requests.get(link)  \n",
    "    soup = BeautifulSoup(source.text, \"html.parser\")\n",
    "    \n",
    "    title = soup.find(\"h2\", class_=\"titrepoeme\").text.strip().replace(\"Titre : \", \"\")\n",
    "    poem = soup.find(\"div\", class_=\"postpoetique\").find(\"p\")\n",
    "    list_changes = {\"<br/>\": \"\\n\", \"<p>\": \"\", \"</p>\": \"\", \"<span class=\\\"decalage28\\\"></span>\": \"\",\\\n",
    "                    \"<span class=\\\"decalage11\\\"></span>\": \"\", \"<span class=\\\"decalage12\\\"></span>\": \"\",\\\n",
    "                    \"<span class=\\\"decalage2\\\"></span>\": \"\", \"<span class=\\\"decalage16\\\"></span>\": \"\"  }\n",
    "    for i, j in list_changes.items():\n",
    "        poem = str(poem).replace(i, j)\n",
    "    extracted_poems.append(title)\n",
    "    extracted_poems.append(poem)"
   ]
  },
  {
   "cell_type": "code",
   "execution_count": 4,
   "metadata": {},
   "outputs": [],
   "source": [
    "with open('data/raw/baudelaire.txt', 'w') as f:\n",
    "    for line in extracted_poems:\n",
    "        f.write(\"%s\\n\" % line)"
   ]
  }
 ],
 "metadata": {
  "kernelspec": {
   "display_name": "Python 3",
   "language": "python",
   "name": "python3"
  },
  "language_info": {
   "codemirror_mode": {
    "name": "ipython",
    "version": 3
   },
   "file_extension": ".py",
   "mimetype": "text/x-python",
   "name": "python",
   "nbconvert_exporter": "python",
   "pygments_lexer": "ipython3",
   "version": "3.8.2"
  }
 },
 "nbformat": 4,
 "nbformat_minor": 4
}
