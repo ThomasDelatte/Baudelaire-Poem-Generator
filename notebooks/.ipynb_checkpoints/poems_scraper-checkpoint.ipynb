{
 "cells": [
  {
   "cell_type": "code",
   "execution_count": 7,
   "metadata": {},
   "outputs": [],
   "source": [
    "# Notebook for scraping Baudelaire poems from: https://www.poesie-francaise.fr/poemes-charles-baudelaire/\n",
    "from bs4 import BeautifulSoup\n",
    "import requests\n",
    "import re\n",
    "import json\n",
    "import pickle"
   ]
  },
  {
   "cell_type": "code",
   "execution_count": 2,
   "metadata": {},
   "outputs": [],
   "source": [
    "source_1 = requests.get(\"https://www.poesie-francaise.fr/poemes-charles-baudelaire/\")  \n",
    "\n",
    "soup_url = BeautifulSoup(source_1.text, \"html.parser\")\n",
    "\n",
    "links = []\n",
    "\n",
    "for link in soup_url.findAll('a', attrs={'href': re.compile(\"^https://www.poesie-francaise.fr/charles-baudelaire/\")}):\n",
    "    links.append(link.get('href'))"
   ]
  },
  {
   "cell_type": "code",
   "execution_count": 17,
   "metadata": {},
   "outputs": [],
   "source": [
    "extracted_poems = []\n",
    "for link in links:\n",
    "    source = requests.get(link)  \n",
    "    soup = BeautifulSoup(source.text, \"html.parser\")\n",
    "    \n",
    "    title = soup.find(\"h2\", class_=\"titrepoeme\").text.strip().replace(\"Titre : \", \"\")\n",
    "    poem = soup.find(\"div\", class_=\"postpoetique\").find(\"p\")\n",
    "    list_changes = {\"<br/>\": \"\\n\", \"<p>\": \"\", \"</p>\": \"\", \"<span class=\\\"decalage28\\\"></span>\": \"\", \"<span class=\\\"decalage11\\\"></span>\": \"\", \"<span class=\\\"decalage12\\\"></span>\": \"\", \"<span class=\\\"decalage2\\\"></span>\": \"\", \"<span class=\\\"decalage16\\\"></span>\": \"\"  }\n",
    "    for i, j in list_changes.items():\n",
    "        poem = str(poem).replace(i, j)\n",
    "    extracted_poems.append(title)\n",
    "    extracted_poems.append(poem)"
   ]
  },
  {
   "cell_type": "code",
   "execution_count": 19,
   "metadata": {},
   "outputs": [],
   "source": [
    "with open('baudelaire_1.txt', 'w') as f:\n",
    "    for line in extracted_poems:\n",
    "        f.write(\"%s\\n\" % line)"
   ]
  },
  {
   "cell_type": "code",
   "execution_count": null,
   "metadata": {},
   "outputs": [],
   "source": []
  }
 ],
 "metadata": {
  "kernelspec": {
   "display_name": "Python 3",
   "language": "python",
   "name": "python3"
  },
  "language_info": {
   "codemirror_mode": {
    "name": "ipython",
    "version": 3
   },
   "file_extension": ".py",
   "mimetype": "text/x-python",
   "name": "python",
   "nbconvert_exporter": "python",
   "pygments_lexer": "ipython3",
   "version": "3.8.2"
  }
 },
 "nbformat": 4,
 "nbformat_minor": 4
}
